{
  "nbformat": 4,
  "nbformat_minor": 0,
  "metadata": {
    "colab": {
      "name": "PS-classifier-model.ipynb",
      "provenance": [],
      "collapsed_sections": []
    },
    "kernelspec": {
      "display_name": "Python 3",
      "name": "python3"
    }
  },
  "cells": [
    {
      "cell_type": "markdown",
      "metadata": {
        "id": "WEMmFodBBCxI"
      },
      "source": [
        "**Phoneme vs. Silence Model**\n",
        "\n",
        "The code below trains a Phoneme vs. Silence classfier model on all the 16 subject data. There are four different RNN models and a Gaussian Bayes model. "
      ]
    },
    {
      "cell_type": "code",
      "metadata": {
        "colab": {
          "base_uri": "https://localhost:8080/"
        },
        "id": "aW_-2ICFM1ZW",
        "outputId": "8d159afe-344d-4422-dd4a-8d2055e5c881"
      },
      "source": [
        "from google.colab import drive\n",
        "drive.mount('/content/drive', force_remount=True)"
      ],
      "execution_count": 41,
      "outputs": [
        {
          "output_type": "stream",
          "text": [
            "Mounted at /content/drive\n"
          ],
          "name": "stdout"
        }
      ]
    },
    {
      "cell_type": "code",
      "metadata": {
        "colab": {
          "base_uri": "https://localhost:8080/"
        },
        "id": "1MLgI2gENE9O",
        "outputId": "ba269f48-0a4b-404a-af61-5f62a6fb1993"
      },
      "source": [
        "!pip install mne"
      ],
      "execution_count": 42,
      "outputs": [
        {
          "output_type": "stream",
          "text": [
            "Requirement already satisfied: mne in /usr/local/lib/python3.6/dist-packages (0.21.2)\n",
            "Requirement already satisfied: scipy>=0.17.1 in /usr/local/lib/python3.6/dist-packages (from mne) (1.4.1)\n",
            "Requirement already satisfied: numpy>=1.11.3 in /usr/local/lib/python3.6/dist-packages (from mne) (1.18.5)\n"
          ],
          "name": "stdout"
        }
      ]
    },
    {
      "cell_type": "code",
      "metadata": {
        "id": "UVdOb433NGIC"
      },
      "source": [
        "#import packages\n",
        "import mne # For loading EEG data\n",
        "import numpy as np\n",
        "import glob \n",
        "import os\n",
        "import csv\n",
        "\n",
        "from sklearn import preprocessing\n",
        "from matplotlib import pyplot as plt\n",
        "from sklearn import decomposition\n",
        "from sklearn.model_selection import train_test_split\n",
        "from sklearn.preprocessing import StandardScaler\n",
        "from sklearn.metrics import accuracy_score\n",
        "from keras.utils.np_utils import to_categorical\n",
        "%matplotlib inline\n"
      ],
      "execution_count": 43,
      "outputs": []
    },
    {
      "cell_type": "code",
      "metadata": {
        "colab": {
          "base_uri": "https://localhost:8080/"
        },
        "id": "HssWM9Dn_pZ_",
        "outputId": "5200c601-b36b-42c2-d305-4fe72e0c9938"
      },
      "source": [
        "#unique phonemes from Phoneme data\n",
        "sub = ['MT0001'] \n",
        "data_dir = '/content/drive/My Drive'\n",
        "for su in sub:\n",
        "    timit_filename = data_dir + '/EEG_Phonemes /'+ su + '_TIMIT_phn_info.txt'   \n",
        "    \n",
        "    f_timit = open(timit_filename, \"r\")\n",
        "    lines = f_timit.readlines()\n",
        "    phoneme = []\n",
        "    for x in range(len(lines)):\n",
        "      #print(len(lines[x].strip('\\t\\t')))\n",
        "      phoneme.append(lines[x][:3].strip('\\t'))\n",
        "    print(len(set(phoneme)))"
      ],
      "execution_count": 44,
      "outputs": [
        {
          "output_type": "stream",
          "text": [
            "51\n"
          ],
          "name": "stdout"
        }
      ]
    },
    {
      "cell_type": "code",
      "metadata": {
        "id": "sDNtqbVlAOx0"
      },
      "source": [
        "# 'pau', h# and 'epi are silences\n",
        "class_phn = {}\n",
        "class_phn.update(dict.fromkeys(['pau', 'h#', 'epi'],1))\n"
      ],
      "execution_count": 45,
      "outputs": []
    },
    {
      "cell_type": "code",
      "metadata": {
        "colab": {
          "base_uri": "https://localhost:8080/"
        },
        "id": "tJloWgXNEjdu",
        "outputId": "93c34de1-a367-4b54-9d05-68e0c538bd0b"
      },
      "source": [
        "class_phn"
      ],
      "execution_count": 46,
      "outputs": [
        {
          "output_type": "execute_result",
          "data": {
            "text/plain": [
              "{'epi': 1, 'h#': 1, 'pau': 1}"
            ]
          },
          "metadata": {
            "tags": []
          },
          "execution_count": 46
        }
      ]
    },
    {
      "cell_type": "code",
      "metadata": {
        "colab": {
          "base_uri": "https://localhost:8080/"
        },
        "id": "EC_IpIoPlReX",
        "outputId": "893a0d54-3ce8-4075-837e-2ab4acf49ee1"
      },
      "source": [
        "#files limited by MT0001\n",
        "train = ['MT0001']\n",
        "for num,subject in enumerate(train):\n",
        "    timit_phn_filename = data_dir + '/EEG_Phonemes /'+ subject + '_TIMIT_phn_info.txt'\n",
        "    print(subject)\n",
        "   \n",
        "    with open(timit_phn_filename) as inf:\n",
        "        reader = csv.reader(inf, delimiter='\\t')\n",
        "        second_col = list(zip(*reader))\n",
        "        phonemes = np.array(second_col[0])\n",
        "        start_time = np.array(second_col[2])\n",
        "        wav_title = second_col[6]\n",
        "\n",
        "    timit_filename = data_dir + '/EEG_LSTM/'+ subject + 'timit/'#.npy' \n",
        "\n",
        "    for root, dirs, files in os.walk(timit_filename, topdown=False):\n",
        "      \n",
        "      # for each wav file for a subject\n",
        "      female = 0\n",
        "      male = 0\n",
        "      count = 0\n",
        "\n",
        "      files = os.listdir(timit_filename)\n",
        "      files = sorted(files)\n",
        "      print(files)\n",
        "final_files = np.array(files) \n",
        "\n",
        "import random\n",
        "test_list = random.sample(range(380), 80)\n",
        "train_list = [i for i in range(380) if i not in test_list]\n",
        "print(len(test_list), len(train_list))\n",
        "\n",
        "\n",
        "\n",
        "train_files = final_files[train_list]\n",
        "test_files = final_files[test_list]"
      ],
      "execution_count": 47,
      "outputs": [
        {
          "output_type": "stream",
          "text": [
            "MT0001\n",
            "['fadg0_si1279.npy', 'faem0_si2022.npy', 'falr0_si1955.npy', 'fbcg1_si1612.npy', 'fbjl0_si2182.npy', 'fbmh0_si1766.npy', 'fbmj0_si815.npy', 'fcag0_si1503.npy', 'fcag0_si1641.npy', 'fcaj0_si1479.npy', 'fcaj0_si1804.npy', 'fceg0_si1878.npy', 'fceg0_si618.npy', 'fcft0_si1808.npy', 'fcft0_si548.npy', 'fcjs0_si1607.npy', 'fcmh0_si2084.npy', 'fcmh1_si1493.npy', 'fcmr0_si1735.npy', 'fcmr0_si475.npy', 'fcrh0_si1718.npy', 'fcrz0_si2053.npy', 'fdas1_si2091.npy', 'fdaw0_si1406.npy', 'fdfb0_si1948.npy', 'fdhc0_si2189.npy', 'fdjh0_si1565.npy', 'fdml0_si2075.npy', 'fdms0_si1218.npy', 'fdrd1_si1544.npy', 'fdrw0_si1423.npy', 'fdxw0_si1511.npy', 'fdxw0_si2141.npy', 'feac0_si1245.npy', 'fear0_si1882.npy', 'fedw0_si1653.npy', 'fetb0_si1148.npy', 'fgcs0_si856.npy', 'fgjd0_si1179.npy', 'fgmd0_si2107.npy', 'fgrw0_si1990.npy', 'fhlm0_si1560.npy', 'fisb0_si2209.npy', 'fjas0_si2030.npy', 'fjhk0_si1652.npy', 'fjkl0_si1562.npy', 'fjkl0_si2192.npy', 'fjlg0_si1506.npy', 'fjlg0_si2306.npy', 'fjlr0_si1861.npy', 'fjrb0_si672.npy', 'fjre0_si1746.npy', 'fjrp1_si802.npy', 'fjsj0_si2114.npy', 'fjsj0_si854.npy', 'fjsp0_si1763.npy', 'fjwb1_si2055.npy', 'fkfb0_si2238.npy', 'fklc0_si2245.npy', 'fklc1_si1678.npy', 'fklc1_si2308.npy', 'flac0_si2161.npy', 'flas0_si1026.npy', 'flja0_si1708.npy', 'flja0_si2338.npy', 'fljd0_si2146.npy', 'fljd0_si886.npy', 'flmc0_si2002.npy', 'flmk0_si2295.npy', 'flod0_si1917.npy', 'fltm0_si1070.npy', 'fltm0_si2330.npy', 'fmah0_si1289.npy', 'fmbg0_si1790.npy', 'fmbg0_si2264.npy', 'fmjf0_si1254.npy', 'fmjf0_si1884.npy', 'fmju0_si2019.npy', 'fmkc0_si1702.npy', 'fmld0_si925.npy', 'fnkl0_si2152.npy', 'fnlp0_si678.npy', 'fntb0_si573.npy', 'fpac0_si2011.npy', 'fpad0_si1976.npy', 'fpaz0_si1593.npy', 'fpkt0_si2168.npy', 'fpls0_si1590.npy', 'fpmy0_si1783.npy', 'freh0_si685.npy', 'frew0_si1030.npy', 'frll0_si1514.npy', 'fsak0_si1930.npy', 'fsbk0_si1699.npy', 'fsdc0_si2234.npy', 'fsdj0_si485.npy', 'fsjk1_si2285.npy', 'fsjs0_si1171.npy', 'fskp0_si1728.npy', 'fslb1_si644.npy', 'fspm0_si611.npy', 'fsrh0_si1719.npy', 'fsrh0_si1931.npy', 'fssb0_si2342.npy', 'ftaj0_si1329.npy', 'ftbw0_si1345.npy', 'ftmg0_si1532.npy', 'fvfb0_si2292.npy', 'fvkb0_si1159.npy', 'fvkb0_si1789.npy', 'mabc0_si1620.npy', 'mabw0_si1664.npy', 'mabw0_si2294.npy', 'madd0_si1295.npy', 'maeb0_si2250.npy', 'maeo0_si1956.npy', 'mafm0_si2199.npy', 'majc0_si2095.npy', 'makr0_si1352.npy', 'makr0_si722.npy', 'marc0_si1188.npy', 'marc0_si1818.npy', 'marw0_si646.npy', 'mbbr0_si1685.npy', 'mbbr0_si2315.npy', 'mbjk0_si545.npy', 'mbjv0_si1877.npy', 'mbma0_si1852.npy', 'mbma0_si592.npy', 'mbml0_si1169.npy', 'mbml0_si539.npy', 'mbom0_si2274.npy', 'mbpm0_si1577.npy', 'mbth0_si757.npy', 'mbwm0_si1934.npy', 'mbwp0_si1531.npy', 'mcal0_si508.npy', 'mccs0_si2099.npy', 'mcdc0_si1922.npy', 'mchh0_si1634.npy', 'mclk0_si1660.npy', 'mcmb0_si1898.npy', 'mcrc0_si1092.npy', 'mcth0_si1839.npy', 'mctm0_si720.npy', 'mctt0_si1144.npy', 'mctw0_si2003.npy', 'mctw0_si743.npy', 'mcxm0_si721.npy', 'mdab0_si1669.npy', 'mdac0_si1837.npy', 'mdac2_si999.npy', 'mdas0_si1266.npy', 'mdbb1_si1636.npy', 'mdcd0_si2045.npy', 'mddc0_si2049.npy', 'mdef0_si2193.npy', 'mdhs0_si1530.npy', 'mdhs0_si2160.npy', 'mdks0_si1696.npy', 'mdlc0_si765.npy', 'mdlc1_si2144.npy', 'mdlc2_si2244.npy', 'mdld0_si1543.npy', 'mdlf0_si2213.npy', 'mdls0_si2258.npy', 'mdls0_si998.npy', 'mdma0_si1238.npy', 'mdmt0_si2341.npy', 'mdpk0_si1683.npy', 'mdpk0_si552.npy', 'mdrb0_si1174.npy', 'mdrd0_si1382.npy', 'mdrm0_si1643.npy', 'mdrm0_si2273.npy', 'mdsc0_si2298.npy', 'mdss0_si1881.npy', 'mdss0_si621.npy', 'mdss1_si1713.npy', 'mdtb0_si1200.npy', 'mdtb0_si1830.npy', 'mdvc0_si2174.npy', 'mdwa0_si1445.npy', 'mdwd0_si557.npy', 'mdwh0_si1925.npy', 'mdwk0_si910.npy', 'meal0_si2177.npy', 'medr0_si1374.npy', 'megj0_si1967.npy', 'mejl0_si1592.npy', 'mers0_si1649.npy', 'mesg0_si1962.npy', 'mesj0_si2257.npy', 'mewm0_si1348.npy', 'mfer0_si2122.npy', 'mfrm0_si1717.npy', 'mfwk0_si1249.npy', 'mfwk0_si1879.npy', 'mfxs0_si2225.npy', 'mfxs0_si2304.npy', 'mgag0_si645.npy', 'mgar0_si1842.npy', 'mgaw0_si535.npy', 'mges0_si1481.npy', 'mgjf0_si776.npy', 'mglb0_si2164.npy', 'mgrp0_si1947.npy', 'mgrt0_si2080.npy', 'mgsl0_si534.npy', 'mhit0_si2243.npy', 'mhmr0_si1119.npy', 'mhpg0_si1720.npy', 'mhrm0_si1475.npy', 'milb0_si2163.npy', 'mjae0_si2154.npy', 'mjar0_si2247.npy', 'mjbg0_si1724.npy', 'mjda0_si1661.npy', 'mjdc0_si1161.npy', 'mjdc0_si2165.npy', 'mjdg0_si1705.npy', 'mjdh0_si1984.npy', 'mjdm0_si1937.npy', 'mjdm0_si974.npy', 'mjeb0_si656.npy', 'mjfc0_si1033.npy', 'mjfc0_si1663.npy', 'mjfr0_si2235.npy', 'mjhi0_si555.npy', 'mjjb0_si1277.npy', 'mjjb0_si1769.npy', 'mjjg0_si2263.npy', 'mjlb0_si2246.npy', 'mjlb0_si986.npy', 'mjln0_si2079.npy', 'mjmd0_si1028.npy', 'mjmd0_si1658.npy', 'mjmm0_si1885.npy', 'mjmm0_si625.npy', 'mjmp0_si1535.npy', 'mjpg0_si1191.npy', 'mjpm1_si1897.npy', 'mjpm1_si2280.npy', 'mjrf0_si1114.npy', 'mjrg0_si1996.npy', 'mjrh0_si1125.npy', 'mjrk0_si1662.npy', 'mjrk0_si2103.npy', 'mjrp0_si1835.npy', 'mjsw0_si1640.npy', 'mjth0_si1926.npy', 'mjvw0_si1758.npy', 'mjwg0_si2155.npy', 'mjxl0_si1795.npy', 'mkch0_si1425.npy', 'mkch0_si2008.npy', 'mkcl0_si1721.npy', 'mkdb0_si588.npy', 'mkjl0_si470.npy', 'mklr0_si1689.npy', 'mklr0_si2319.npy', 'mkls0_si1533.npy', 'mklt0_si1213.npy', 'mklt0_si583.npy', 'mklw0_si1844.npy', 'mkxl0_si1185.npy', 'mljc0_si1855.npy', 'mlll0_si1993.npy', 'mlns0_si1407.npy', 'mmab1_si1494.npy', 'mmab1_si2124.npy', 'mmam0_si1668.npy', 'mmam0_si2227.npy', 'mmbs0_si1781.npy', 'mmdb0_si1617.npy', 'mmdg0_si2035.npy', 'mmdm0_si681.npy', 'mmdm1_si1650.npy', 'mmdm2_si1555.npy', 'mmds0_si1973.npy', 'mmea0_si2018.npy', 'mmeb0_si1987.npy', 'mmeb0_si727.npy', 'mmgk0_si1952.npy', 'mmjb1_si778.npy', 'mmlm0_si1527.npy', 'mmlm0_si897.npy', 'mmpm0_si2321.npy', 'mmrp0_si2034.npy', 'mmrp0_si717.npy', 'mmws0_si559.npy', 'mmws1_si1701.npy', 'mmws1_si2331.npy', 'mmxs0_si876.npy', 'mntw0_si2328.npy', 'mpam1_si1029.npy', 'mpar0_si946.npy', 'mpeb0_si1034.npy', 'mpfu0_si1888.npy', 'mpfu0_si628.npy', 'mpgh0_si924.npy', 'mpgr0_si780.npy', 'mprb0_si1205.npy', 'mprt0_si495.npy', 'mpsw0_si2327.npy', 'mrab0_si1224.npy', 'mram0_si1905.npy', 'mrbc0_si1665.npy', 'mrcs0_si1223.npy', 'mrdm0_si1595.npy', 'mrds0_si1167.npy', 'mrem0_si961.npy', 'mres0_si1847.npy', 'mrew1_si1500.npy', 'mrew1_si2130.npy', 'mrfk0_si1706.npy', 'mrfk0_si2336.npy', 'mrfl0_si1786.npy', 'mrgg0_si1199.npy', 'mrgg0_si569.npy', 'mrgs0_si1986.npy', 'mrjh0_si914.npy', 'mrjm0_si1095.npy', 'mrjm4_si1489.npy', 'mrjm4_si2119.npy', 'mrjo0_si1624.npy', 'mrjs0_si1523.npy', 'mrjt0_si1805.npy', 'mrld0_si2224.npy', 'mrlj0_si2050.npy', 'mrms0_si2100.npy', 'mrpc1_si2026.npy', 'mrpp0_si1814.npy', 'mrrk0_si1716.npy', 'mrtj0_si2032.npy', 'mrtk0_si1723.npy', 'mrvg0_si1770.npy', 'mrvg0_si510.npy', 'mrwa0_si1603.npy', 'mrws0_si1732.npy', 'mrxb0_si1585.npy', 'msah1_si1049.npy', 'msah1_si1679.npy', 'msdb0_si2267.npy', 'msdh0_si2113.npy', 'msdh0_si2240.npy', 'msjs1_si1899.npy', 'mslb0_si1193.npy', 'msmc0_si1907.npy', 'msmr0_si775.npy', 'msms0_si2063.npy', 'msrg0_si1851.npy', 'mstf0_si766.npy', 'mtas0_si2015.npy', 'mtat1_si1627.npy', 'mtdb0_si2031.npy', 'mtdp0_si1274.npy', 'mtdt0_si2254.npy', 'mtjg0_si2157.npy', 'mtjs0_si1192.npy', 'mtju0_si2269.npy', 'mtls0_si740.npy', 'mtpg0_si2013.npy', 'mtpp0_si878.npy', 'mtpr0_si506.npy', 'mtqc0_si480.npy', 'mtrc0_si1623.npy', 'mtrc0_si993.npy', 'mtwh0_si1629.npy', 'mtxs0_si1690.npy', 'mvrw0_si2115.npy', 'mwar0_si2305.npy', 'mwdk0_si2017.npy', 'mwem0_si1393.npy', 'mwew0_si1361.npy', 'mwew0_si731.npy', 'mwjg0_si494.npy', 'mwre0_si2317.npy', 'mwrp0_si1525.npy', 'mzmb0_si1796.npy']\n",
            "80 300\n"
          ],
          "name": "stdout"
        }
      ]
    },
    {
      "cell_type": "code",
      "metadata": {
        "colab": {
          "base_uri": "https://localhost:8080/"
        },
        "id": "hgP7eJSHlXLw",
        "outputId": "ddeef577-4f81-41dc-d0b0-6f3416012a7f"
      },
      "source": [
        "train = ['MT0001','MT0002', 'MT0003','MT0004','MT0005','MT0006', 'MT0008','MT0009','MT0010', 'MT0011', 'MT0012', 'MT0013', 'MT0014', 'MT0015', 'MT0016', 'MT0017']\n",
        "\n",
        "train_frames = []\n",
        "test_frames = []\n",
        "\n",
        "train_label = []\n",
        "test_label = []\n",
        "\n",
        "for num,subject in enumerate(train):\n",
        "    timit_phn_filename = data_dir + '/EEG_Phonemes /'+ subject + '_TIMIT_phn_info.txt' #timing information for phonemes generated by praat tool\n",
        "\n",
        "    female = 0\n",
        "    male = 0\n",
        "\n",
        "    \n",
        "    with open(timit_phn_filename) as inf:\n",
        "        reader = csv.reader(inf, delimiter='\\t')\n",
        "        second_col = list(zip(*reader))\n",
        "        phonemes = np.array(second_col[0])\n",
        "        start_time = np.array(second_col[2])\n",
        "        wav_title = second_col[6]\n",
        "    \n",
        "\n",
        "\n",
        "\n",
        "    timit_filename = data_dir + '/EEG_LSTM/'+ subject + 'timit/'#.npy'\n",
        "\n",
        "    for root, dirs, files in os.walk(timit_filename, topdown=False):\n",
        "      # for each wav file for a subject\n",
        "      count = 0\n",
        "      files = os.listdir(timit_filename)\n",
        "      files = sorted(files)\n",
        "\n",
        "      \n",
        "      for name in files:\n",
        "          if name[0] == 'm':\n",
        "            male = male + 1\n",
        "          else:\n",
        "            female = female + 1\n",
        "          #print(male, female)\n",
        "\n",
        "          count = count + 1\n",
        "          \n",
        "          timit_file = os.path.join(root, name)\n",
        "          timit = np.load(timit_file)\n",
        "          #print(name)\n",
        "          indexes = []\n",
        "          #Append row nums for that wav_title from events file\n",
        "          for x in range(len(wav_title)):\n",
        "            if name[:-4] == wav_title[x]:\n",
        "              indexes.append(x)\n",
        "          \n",
        "          # Take only the first wav file from eventsfile \n",
        "          for ele in range(len(indexes)-1):\n",
        "            if indexes[ele+1] - indexes[ele] > 1:\n",
        "              indexes = np.array(indexes[:ele])\n",
        "              break\n",
        "          \n",
        "          if len(indexes) == 0:\n",
        "            print(\"skipping:\", name)\n",
        "            continue\n",
        "\n",
        "          phon = phonemes[indexes]\n",
        "          start = np.array(start_time[indexes], dtype=int)\n",
        "          frames = np.zeros((phon.shape[0],20,64))\n",
        "          timit = timit.reshape(timit.shape[1], timit.shape[2])\n",
        "          timit = timit.T\n",
        "\n",
        "\n",
        "          timit = timit[65:, :] #removing 0.5s of past EEG data\n",
        "          \n",
        "\n",
        "          for p in range(len(phon)-1):\n",
        "              beg = start[p] - start[0]\n",
        "              end = start[p+1] - start[0]\n",
        "              timit_len = end - beg\n",
        "              if timit_len < 19:\n",
        "                bal_l = 4\n",
        "                bal_r = 20 - timit_len - bal_l # subtract timit len and bal_l from total_len \n",
        "                total = end+bal_r - (beg - bal_l)\n",
        "                #print(\"beg, end, timit_len, bal, total\", beg, end, timit_len, bal, total)\n",
        "                if beg - bal_l < 0:\n",
        "                  frames[p,:total - bal_l,:64] = timit[beg : end+bal_r,:]\n",
        "                else:\n",
        "                  frames[p,:total,:64] = timit[beg-bal_l : end+bal_r,:]\n",
        "              elif timit_len > 20:\n",
        "                frames[p,:20,:64] = timit[beg: beg+20, :]\n",
        "              else:\n",
        "                frames[p,:timit_len,:64] = timit[beg:end, :]\n",
        "          #fill the last phoneme from end:20   \n",
        "          frames[len(phon)-1,:, :64] = timit[end: end+20, :]\n",
        "          #break\n",
        "\n",
        "\n",
        "          y_label = []\n",
        "          for phn_num,p in enumerate(phon):\n",
        "            if (phn_num == 0 or phn_num == len(phon) -1) and p == 'h':\n",
        "                y_label.append(class_phn['h#'])\n",
        "            elif p == 'pau':\n",
        "              y_label.append(class_phn['pau'])\n",
        "            elif p == 'epi':\n",
        "              y_label.append(class_phn['epi'])\n",
        "            else:\n",
        "                y_label.append(0)\n",
        "\n",
        "         \n",
        "          if name in train_files:\n",
        "            train_frames.append(frames)\n",
        "            train_label.append(y_label)\n",
        "            #print(\"train\", name)\n",
        "            \n",
        "          elif name in test_files:\n",
        "            test_frames.append(frames)\n",
        "            test_label.append(y_label)\n",
        "            #print(\"test\", name)\n",
        "          else:\n",
        "            print(\"not train or test\")\n",
        "\n",
        "\n",
        "          #break\n"
      ],
      "execution_count": 48,
      "outputs": [
        {
          "output_type": "stream",
          "text": [
            "skipping: mchh0_si1634.npy\n",
            "skipping: mkcl0_si1721.npy\n",
            "skipping: mchh0_si1634.npy\n",
            "skipping: mkcl0_si1721.npy\n",
            "skipping: mchh0_si1634.npy\n",
            "skipping: mkcl0_si1721.npy\n",
            "skipping: mchh0_si1634.npy\n",
            "skipping: mkcl0_si1721.npy\n",
            "skipping: mchh0_si1634.npy\n",
            "skipping: mkcl0_si1721.npy\n",
            "skipping: mchh0_si1634.npy\n",
            "skipping: mkcl0_si1721.npy\n",
            "skipping: mchh0_si1634.npy\n",
            "skipping: mkcl0_si1721.npy\n",
            "skipping: mchh0_si1634.npy\n",
            "skipping: mkcl0_si1721.npy\n",
            "skipping: mchh0_si1634.npy\n",
            "skipping: mkcl0_si1721.npy\n",
            "skipping: mchh0_si1634.npy\n",
            "skipping: mkcl0_si1721.npy\n",
            "skipping: mchh0_si1634.npy\n",
            "skipping: mkcl0_si1721.npy\n",
            "skipping: mchh0_si1634.npy\n",
            "skipping: mkcl0_si1721.npy\n",
            "skipping: mjjb0_si1277.npy\n",
            "skipping: mchh0_si1634.npy\n",
            "skipping: mkcl0_si1721.npy\n",
            "skipping: mchh0_si1634.npy\n",
            "skipping: mkcl0_si1721.npy\n",
            "skipping: mchh0_si1634.npy\n",
            "skipping: mkcl0_si1721.npy\n"
          ],
          "name": "stdout"
        }
      ]
    },
    {
      "cell_type": "code",
      "metadata": {
        "id": "SykyLwHVaw4z"
      },
      "source": [
        "train_frames_ = np.concatenate(train_frames, axis = 0)\n",
        "train_label_ = np.concatenate(train_label, axis = 0)\n",
        "\n",
        "test_frames_ = np.concatenate(test_frames, axis = 0)\n",
        "test_label_ = np.concatenate(test_label, axis = 0)"
      ],
      "execution_count": 49,
      "outputs": []
    },
    {
      "cell_type": "code",
      "metadata": {
        "colab": {
          "base_uri": "https://localhost:8080/"
        },
        "id": "T_-dDTWtJmAP",
        "outputId": "7f2e68e0-2ed9-470c-d068-d77d256e6e44"
      },
      "source": [
        "from collections import Counter\n",
        "print(Counter(test_label_).keys()) # equals to list(set(words))\n",
        "print(Counter(test_label_).values()) # counts the elements' frequency\n",
        "\n",
        "print(Counter(train_label_).keys()) # equals to list(set(words))\n",
        "print(Counter(train_label_).values()) # counts the elements' frequency"
      ],
      "execution_count": 50,
      "outputs": [
        {
          "output_type": "stream",
          "text": [
            "dict_keys([1, 0])\n",
            "dict_values([2273, 28651])\n",
            "dict_keys([1, 0])\n",
            "dict_values([9154, 111322])\n"
          ],
          "name": "stdout"
        }
      ]
    },
    {
      "cell_type": "code",
      "metadata": {
        "id": "NAkasyP5B9ho"
      },
      "source": [
        "pca_case = False\n",
        "#reshape train_frames_\n",
        "train_1 = train_frames_.shape[0]\n",
        "test_1 = test_frames_.shape[0]\n",
        "train_frames_ = np.reshape(train_frames_, ((train_frames_.shape[0]*20,64)))\n",
        "test_frames_ = np.reshape(test_frames_, ((test_frames_.shape[0]*20,64)))\n",
        "\n",
        "\n",
        "\n",
        "#standard scalar\n",
        "from sklearn.preprocessing import StandardScaler\n",
        "scaler = StandardScaler()\n",
        "scaler.fit(train_frames_)\n",
        "train_frames_ = scaler.transform(train_frames_)\n",
        "test_frames_ = scaler.transform(test_frames_)\n",
        "\n",
        "#PCA\n",
        "n_components = 64\n",
        "if pca_case:\n",
        "  pca = decomposition.PCA(n_components=n_components)\n",
        "  pca.fit(train_frames_)\n",
        "  train_frames_pca = pca.transform(train_frames_)\n",
        "  test_frames_pca = pca.transform(test_frames_)\n",
        "  train_frames_pca = np.reshape(train_frames_pca, ((train_1,20,n_components)))\n",
        "  test_frames_pca = np.reshape(test_frames_pca, ((test_1,20,n_components)))\n",
        "\n",
        "\n",
        "\n",
        "else:\n",
        "  train_frames_ = np.reshape(train_frames_, ((train_1,20,n_components)))\n",
        "  test_frames_ = np.reshape(test_frames_, ((test_1,20,n_components)))\n",
        "\n",
        "\n"
      ],
      "execution_count": 51,
      "outputs": []
    },
    {
      "cell_type": "code",
      "metadata": {
        "colab": {
          "base_uri": "https://localhost:8080/"
        },
        "id": "di1-YLSsEtsD",
        "outputId": "60e6b805-5961-49cd-ba12-284e5700f9b3"
      },
      "source": [
        "#calculate test % data\n",
        "print(test_frames_.shape[0]/(test_frames_.shape[0]+train_frames_.shape[0]))"
      ],
      "execution_count": 52,
      "outputs": [
        {
          "output_type": "stream",
          "text": [
            "0.20425363276089828\n"
          ],
          "name": "stdout"
        }
      ]
    },
    {
      "cell_type": "markdown",
      "metadata": {
        "id": "eNnQ9trEGud7"
      },
      "source": [
        "In the below sections, we train 4 RNN models and Bayes model"
      ]
    },
    {
      "cell_type": "code",
      "metadata": {
        "colab": {
          "base_uri": "https://localhost:8080/"
        },
        "id": "waSzCUWtciLP",
        "outputId": "5b8fc661-4103-43d1-a40b-fdda403dde22"
      },
      "source": [
        "#Final experiments-final - LSTM - PCA\n",
        "\n",
        "\n",
        "from keras.models import Sequential\n",
        "from keras.layers import Dense\n",
        "from keras.layers import LSTM, GRU, Dropout, BatchNormalization, Activation\n",
        "from keras.layers.embeddings import Embedding\n",
        "from keras.preprocessing import sequence\n",
        "\n",
        "model = Sequential()\n",
        "model.add(LSTM(256, input_shape=(train_frames_.shape[1],train_frames_.shape[2]), return_sequences=True))\n",
        "model.add(BatchNormalization())\n",
        "model.add(Activation(\"relu\"))\n",
        "model.add(Dropout(0.5))\n",
        "model.add(LSTM(256))\n",
        "model.add(Dense(1, activation='sigmoid'))\n",
        "model.compile(loss='binary_crossentropy', optimizer='adam', metrics=['accuracy'])\n",
        "#model.build()\n",
        "print(model.summary())\n",
        "model.fit(train_frames_pca, train_label_, epochs=50, batch_size=64, verbose = 1)\n"
      ],
      "execution_count": 18,
      "outputs": [
        {
          "output_type": "stream",
          "text": [
            "Model: \"sequential\"\n",
            "_________________________________________________________________\n",
            "Layer (type)                 Output Shape              Param #   \n",
            "=================================================================\n",
            "lstm (LSTM)                  (None, 20, 256)           328704    \n",
            "_________________________________________________________________\n",
            "batch_normalization (BatchNo (None, 20, 256)           1024      \n",
            "_________________________________________________________________\n",
            "activation (Activation)      (None, 20, 256)           0         \n",
            "_________________________________________________________________\n",
            "dropout (Dropout)            (None, 20, 256)           0         \n",
            "_________________________________________________________________\n",
            "lstm_1 (LSTM)                (None, 256)               525312    \n",
            "_________________________________________________________________\n",
            "dense (Dense)                (None, 1)                 257       \n",
            "=================================================================\n",
            "Total params: 855,297\n",
            "Trainable params: 854,785\n",
            "Non-trainable params: 512\n",
            "_________________________________________________________________\n",
            "None\n",
            "Epoch 1/50\n",
            "1886/1886 [==============================] - 14s 8ms/step - loss: 0.2180 - accuracy: 0.9412\n",
            "Epoch 2/50\n",
            "1886/1886 [==============================] - 14s 7ms/step - loss: 0.1986 - accuracy: 0.9484\n",
            "Epoch 3/50\n",
            "1886/1886 [==============================] - 14s 8ms/step - loss: 0.1964 - accuracy: 0.9485\n",
            "Epoch 4/50\n",
            "1886/1886 [==============================] - 14s 8ms/step - loss: 0.1933 - accuracy: 0.9490\n",
            "Epoch 5/50\n",
            "1886/1886 [==============================] - 14s 8ms/step - loss: 0.1898 - accuracy: 0.9497\n",
            "Epoch 6/50\n",
            "1886/1886 [==============================] - 14s 7ms/step - loss: 0.1872 - accuracy: 0.9501\n",
            "Epoch 7/50\n",
            "1886/1886 [==============================] - 14s 8ms/step - loss: 0.1829 - accuracy: 0.9509\n",
            "Epoch 8/50\n",
            "1886/1886 [==============================] - 15s 8ms/step - loss: 0.1779 - accuracy: 0.9515\n",
            "Epoch 9/50\n",
            "1886/1886 [==============================] - 15s 8ms/step - loss: 0.1701 - accuracy: 0.9524\n",
            "Epoch 10/50\n",
            "1886/1886 [==============================] - 14s 8ms/step - loss: 0.1615 - accuracy: 0.9535\n",
            "Epoch 11/50\n",
            "1886/1886 [==============================] - 15s 8ms/step - loss: 0.1498 - accuracy: 0.9554\n",
            "Epoch 12/50\n",
            "1886/1886 [==============================] - 15s 8ms/step - loss: 0.1367 - accuracy: 0.9581\n",
            "Epoch 13/50\n",
            "1886/1886 [==============================] - 15s 8ms/step - loss: 0.1232 - accuracy: 0.9612\n",
            "Epoch 14/50\n",
            "1886/1886 [==============================] - 14s 8ms/step - loss: 0.1091 - accuracy: 0.9651\n",
            "Epoch 15/50\n",
            "1886/1886 [==============================] - 14s 8ms/step - loss: 0.0957 - accuracy: 0.9692\n",
            "Epoch 16/50\n",
            "1886/1886 [==============================] - 14s 8ms/step - loss: 0.0850 - accuracy: 0.9724\n",
            "Epoch 17/50\n",
            "1886/1886 [==============================] - 14s 8ms/step - loss: 0.0799 - accuracy: 0.9742\n",
            "Epoch 18/50\n",
            "1886/1886 [==============================] - 14s 7ms/step - loss: 0.0699 - accuracy: 0.9775\n",
            "Epoch 19/50\n",
            "1886/1886 [==============================] - 15s 8ms/step - loss: 0.0635 - accuracy: 0.9795\n",
            "Epoch 20/50\n",
            "1886/1886 [==============================] - 14s 8ms/step - loss: 0.0588 - accuracy: 0.9809\n",
            "Epoch 21/50\n",
            "1886/1886 [==============================] - 14s 7ms/step - loss: 0.0544 - accuracy: 0.9824\n",
            "Epoch 22/50\n",
            "1886/1886 [==============================] - 14s 7ms/step - loss: 0.0513 - accuracy: 0.9834\n",
            "Epoch 23/50\n",
            "1886/1886 [==============================] - 13s 7ms/step - loss: 0.0471 - accuracy: 0.9851\n",
            "Epoch 24/50\n",
            "1886/1886 [==============================] - 13s 7ms/step - loss: 0.0468 - accuracy: 0.9851\n",
            "Epoch 25/50\n",
            "1886/1886 [==============================] - 14s 7ms/step - loss: 0.0427 - accuracy: 0.9866\n",
            "Epoch 26/50\n",
            "1886/1886 [==============================] - 14s 7ms/step - loss: 0.0426 - accuracy: 0.9862\n",
            "Epoch 27/50\n",
            "1886/1886 [==============================] - 13s 7ms/step - loss: 0.0395 - accuracy: 0.9874\n",
            "Epoch 28/50\n",
            "1886/1886 [==============================] - 13s 7ms/step - loss: 0.0383 - accuracy: 0.9882\n",
            "Epoch 29/50\n",
            "1886/1886 [==============================] - 13s 7ms/step - loss: 0.0387 - accuracy: 0.9879\n",
            "Epoch 30/50\n",
            "1886/1886 [==============================] - 13s 7ms/step - loss: 0.0361 - accuracy: 0.9888\n",
            "Epoch 31/50\n",
            "1886/1886 [==============================] - 13s 7ms/step - loss: 0.0360 - accuracy: 0.9888\n",
            "Epoch 32/50\n",
            "1886/1886 [==============================] - 13s 7ms/step - loss: 0.0346 - accuracy: 0.9892\n",
            "Epoch 33/50\n",
            "1886/1886 [==============================] - 13s 7ms/step - loss: 0.0332 - accuracy: 0.9898\n",
            "Epoch 34/50\n",
            "1886/1886 [==============================] - 14s 7ms/step - loss: 0.0332 - accuracy: 0.9898\n",
            "Epoch 35/50\n",
            "1886/1886 [==============================] - 13s 7ms/step - loss: 0.0323 - accuracy: 0.9900\n",
            "Epoch 36/50\n",
            "1886/1886 [==============================] - 13s 7ms/step - loss: 0.0313 - accuracy: 0.9904\n",
            "Epoch 37/50\n",
            "1886/1886 [==============================] - 13s 7ms/step - loss: 0.0312 - accuracy: 0.9904\n",
            "Epoch 38/50\n",
            "1886/1886 [==============================] - 13s 7ms/step - loss: 0.0308 - accuracy: 0.9908\n",
            "Epoch 39/50\n",
            "1886/1886 [==============================] - 13s 7ms/step - loss: 0.0308 - accuracy: 0.9904\n",
            "Epoch 40/50\n",
            "1886/1886 [==============================] - 13s 7ms/step - loss: 0.0292 - accuracy: 0.9913\n",
            "Epoch 41/50\n",
            "1886/1886 [==============================] - 13s 7ms/step - loss: 0.0295 - accuracy: 0.9912\n",
            "Epoch 42/50\n",
            "1886/1886 [==============================] - 13s 7ms/step - loss: 0.0300 - accuracy: 0.9909\n",
            "Epoch 43/50\n",
            "1886/1886 [==============================] - 13s 7ms/step - loss: 0.0290 - accuracy: 0.9914\n",
            "Epoch 44/50\n",
            "1886/1886 [==============================] - 13s 7ms/step - loss: 0.0285 - accuracy: 0.9915\n",
            "Epoch 45/50\n",
            "1886/1886 [==============================] - 13s 7ms/step - loss: 0.0272 - accuracy: 0.9918\n",
            "Epoch 46/50\n",
            "1886/1886 [==============================] - 13s 7ms/step - loss: 0.0269 - accuracy: 0.9920\n",
            "Epoch 47/50\n",
            "1886/1886 [==============================] - 13s 7ms/step - loss: 0.0268 - accuracy: 0.9921\n",
            "Epoch 48/50\n",
            "1886/1886 [==============================] - 13s 7ms/step - loss: 0.0280 - accuracy: 0.9916\n",
            "Epoch 49/50\n",
            "1886/1886 [==============================] - 13s 7ms/step - loss: 0.0272 - accuracy: 0.9918\n",
            "Epoch 50/50\n",
            "1886/1886 [==============================] - 13s 7ms/step - loss: 0.0284 - accuracy: 0.9916\n"
          ],
          "name": "stdout"
        },
        {
          "output_type": "execute_result",
          "data": {
            "text/plain": [
              "<tensorflow.python.keras.callbacks.History at 0x7f14a12a9ac8>"
            ]
          },
          "metadata": {
            "tags": []
          },
          "execution_count": 18
        }
      ]
    },
    {
      "cell_type": "code",
      "metadata": {
        "colab": {
          "base_uri": "https://localhost:8080/",
          "height": 701
        },
        "id": "e2uvqsB5culB",
        "outputId": "bbe5de1d-52ee-4987-eb5a-170ab4f8e444"
      },
      "source": [
        "actual = model.predict(test_frames_pca)\n",
        "predict = actual\n",
        "predict[predict >= 0.5] = 1\n",
        "predict[predict < 0.5] = 0\n",
        "#predict = np.argmax(actual, axis=1)\n",
        "test_label_ = np.concatenate(test_label, axis = 0)\n",
        "print(predict)\n",
        "\n",
        "#test_label_ = np.argmax(actual, axis=1)\n",
        "from sklearn.metrics import confusion_matrix\n",
        "import matplotlib.pyplot as plt\n",
        "cm = confusion_matrix(test_label_, predict)\n",
        "fig = plt.figure()\n",
        "ax = fig.add_subplot(111)\n",
        "cax = ax.matshow(cm)\n",
        "fig.colorbar(cax)\n",
        "plt.show()\n",
        "\n",
        "print(cm)\n",
        "from sklearn.metrics import precision_recall_fscore_support\n",
        "print(precision_recall_fscore_support(test_label_, predict, average='macro'))\n",
        "\n",
        "actual = model.predict(test_frames_)\n",
        "import sklearn.metrics as metrics\n",
        "\n",
        "fpr, tpr, thresholds = metrics.roc_curve(test_label_, actual)#, pos_label=1)\n",
        "#print(fpr, tpr, thresholds)\n",
        "roc_auc = metrics.auc(fpr, tpr)\n",
        "plt.plot(fpr, tpr, 'b', label = 'AUC = %0.2f' % roc_auc)\n",
        "plt.legend(loc = 'lower right')\n",
        "plt.plot([0, 1], [0, 1],'r--')\n",
        "plt.xlim([-0.05, 1.05])\n",
        "plt.ylim([-0.05, 1.05])\n",
        "plt.ylabel('True Positive Rate')\n",
        "plt.xlabel('False Positive Rate')\n",
        "plt.show()"
      ],
      "execution_count": 19,
      "outputs": [
        {
          "output_type": "stream",
          "text": [
            "[[0.]\n",
            " [0.]\n",
            " [0.]\n",
            " ...\n",
            " [0.]\n",
            " [0.]\n",
            " [0.]]\n"
          ],
          "name": "stdout"
        },
        {
          "output_type": "display_data",
          "data": {
            "image/png": "[encoded data removed]",
            "text/plain": [
              "<Figure size 432x288 with 2 Axes>"
            ]
          },
          "metadata": {
            "tags": [],
            "needs_background": "light"
          }
        },
        {
          "output_type": "stream",
          "text": [
            "[[27574   786]\n",
            " [ 1490   861]]\n",
            "(0.7357512495506431, 0.6692560228549626, 0.6955401809291383, None)\n"
          ],
          "name": "stdout"
        },
        {
          "output_type": "display_data",
          "data": {
            "image/png": "[encoded data removed]",
            "text/plain": [
              "<Figure size 432x288 with 1 Axes>"
            ]
          },
          "metadata": {
            "tags": [],
            "needs_background": "light"
          }
        }
      ]
    },
    {
      "cell_type": "code",
      "metadata": {
        "colab": {
          "base_uri": "https://localhost:8080/"
        },
        "id": "nhjjINFyzxST",
        "outputId": "d0a198a6-19f9-4667-dd49-b6160cde4999"
      },
      "source": [
        "#Final experiments-final - GRU - PCA\n",
        "\n",
        "from keras.models import Sequential\n",
        "from keras.layers import Dense\n",
        "from keras.layers import LSTM, GRU, Dropout, BatchNormalization, Activation\n",
        "from keras.layers.embeddings import Embedding\n",
        "from keras.preprocessing import sequence\n",
        "\n",
        "model = Sequential()\n",
        "model.add(GRU(256, input_shape=(train_frames_.shape[1],train_frames_.shape[2]), return_sequences=True))\n",
        "model.add(BatchNormalization())\n",
        "model.add(Activation(\"relu\"))\n",
        "model.add(Dropout(0.5))\n",
        "model.add(GRU(256))\n",
        "model.add(Dense(1, activation='sigmoid'))\n",
        "model.compile(loss='binary_crossentropy', optimizer='adam', metrics=['accuracy'])\n",
        "#model.build()\n",
        "print(model.summary())\n",
        "model.fit(train_frames_pca, train_label_, epochs=50, batch_size=64, verbose = 1)\n"
      ],
      "execution_count": 20,
      "outputs": [
        {
          "output_type": "stream",
          "text": [
            "Model: \"sequential_1\"\n",
            "_________________________________________________________________\n",
            "Layer (type)                 Output Shape              Param #   \n",
            "=================================================================\n",
            "gru (GRU)                    (None, 20, 256)           247296    \n",
            "_________________________________________________________________\n",
            "batch_normalization_1 (Batch (None, 20, 256)           1024      \n",
            "_________________________________________________________________\n",
            "activation_1 (Activation)    (None, 20, 256)           0         \n",
            "_________________________________________________________________\n",
            "dropout_1 (Dropout)          (None, 20, 256)           0         \n",
            "_________________________________________________________________\n",
            "gru_1 (GRU)                  (None, 256)               394752    \n",
            "_________________________________________________________________\n",
            "dense_1 (Dense)              (None, 1)                 257       \n",
            "=================================================================\n",
            "Total params: 643,329\n",
            "Trainable params: 642,817\n",
            "Non-trainable params: 512\n",
            "_________________________________________________________________\n",
            "None\n",
            "Epoch 1/50\n",
            "1886/1886 [==============================] - 12s 7ms/step - loss: 0.2127 - accuracy: 0.9433\n",
            "Epoch 2/50\n",
            "1886/1886 [==============================] - 12s 7ms/step - loss: 0.1952 - accuracy: 0.9492\n",
            "Epoch 3/50\n",
            "1886/1886 [==============================] - 12s 7ms/step - loss: 0.1935 - accuracy: 0.9496\n",
            "Epoch 4/50\n",
            "1886/1886 [==============================] - 12s 6ms/step - loss: 0.1919 - accuracy: 0.9498\n",
            "Epoch 5/50\n",
            "1886/1886 [==============================] - 12s 7ms/step - loss: 0.1899 - accuracy: 0.9503\n",
            "Epoch 6/50\n",
            "1886/1886 [==============================] - 13s 7ms/step - loss: 0.1876 - accuracy: 0.9504\n",
            "Epoch 7/50\n",
            "1886/1886 [==============================] - 13s 7ms/step - loss: 0.1849 - accuracy: 0.9510\n",
            "Epoch 8/50\n",
            "1886/1886 [==============================] - 13s 7ms/step - loss: 0.1809 - accuracy: 0.9515\n",
            "Epoch 9/50\n",
            "1886/1886 [==============================] - 12s 6ms/step - loss: 0.1760 - accuracy: 0.9518\n",
            "Epoch 10/50\n",
            "1886/1886 [==============================] - 12s 6ms/step - loss: 0.1698 - accuracy: 0.9528\n",
            "Epoch 11/50\n",
            "1886/1886 [==============================] - 12s 6ms/step - loss: 0.1622 - accuracy: 0.9532\n",
            "Epoch 12/50\n",
            "1886/1886 [==============================] - 12s 7ms/step - loss: 0.1531 - accuracy: 0.9542\n",
            "Epoch 13/50\n",
            "1886/1886 [==============================] - 12s 6ms/step - loss: 0.1420 - accuracy: 0.9560\n",
            "Epoch 14/50\n",
            "1886/1886 [==============================] - 12s 6ms/step - loss: 0.1299 - accuracy: 0.9590\n",
            "Epoch 15/50\n",
            "1886/1886 [==============================] - 12s 6ms/step - loss: 0.1179 - accuracy: 0.9622\n",
            "Epoch 16/50\n",
            "1886/1886 [==============================] - 12s 6ms/step - loss: 0.1061 - accuracy: 0.9651\n",
            "Epoch 17/50\n",
            "1886/1886 [==============================] - 12s 6ms/step - loss: 0.0970 - accuracy: 0.9679\n",
            "Epoch 18/50\n",
            "1886/1886 [==============================] - 12s 6ms/step - loss: 0.0892 - accuracy: 0.9702\n",
            "Epoch 19/50\n",
            "1886/1886 [==============================] - 12s 7ms/step - loss: 0.0821 - accuracy: 0.9724\n",
            "Epoch 20/50\n",
            "1886/1886 [==============================] - 12s 6ms/step - loss: 0.0774 - accuracy: 0.9742\n",
            "Epoch 21/50\n",
            "1886/1886 [==============================] - 12s 6ms/step - loss: 0.0728 - accuracy: 0.9754\n",
            "Epoch 22/50\n",
            "1886/1886 [==============================] - 12s 7ms/step - loss: 0.0708 - accuracy: 0.9760\n",
            "Epoch 23/50\n",
            "1886/1886 [==============================] - 12s 6ms/step - loss: 0.0650 - accuracy: 0.9788\n",
            "Epoch 24/50\n",
            "1886/1886 [==============================] - 12s 6ms/step - loss: 0.0631 - accuracy: 0.9788\n",
            "Epoch 25/50\n",
            "1886/1886 [==============================] - 12s 7ms/step - loss: 0.0612 - accuracy: 0.9795\n",
            "Epoch 26/50\n",
            "1886/1886 [==============================] - 12s 6ms/step - loss: 0.0603 - accuracy: 0.9798\n",
            "Epoch 27/50\n",
            "1886/1886 [==============================] - 12s 6ms/step - loss: 0.0601 - accuracy: 0.9797\n",
            "Epoch 28/50\n",
            "1886/1886 [==============================] - 12s 6ms/step - loss: 0.0570 - accuracy: 0.9809\n",
            "Epoch 29/50\n",
            "1886/1886 [==============================] - 12s 6ms/step - loss: 0.0580 - accuracy: 0.9808\n",
            "Epoch 30/50\n",
            "1886/1886 [==============================] - 12s 6ms/step - loss: 0.0561 - accuracy: 0.9813\n",
            "Epoch 31/50\n",
            "1886/1886 [==============================] - 12s 7ms/step - loss: 0.0542 - accuracy: 0.9822\n",
            "Epoch 32/50\n",
            "1886/1886 [==============================] - 12s 7ms/step - loss: 0.0528 - accuracy: 0.9825\n",
            "Epoch 33/50\n",
            "1886/1886 [==============================] - 14s 7ms/step - loss: 0.0543 - accuracy: 0.9820\n",
            "Epoch 34/50\n",
            "1886/1886 [==============================] - 12s 6ms/step - loss: 0.0531 - accuracy: 0.9824\n",
            "Epoch 35/50\n",
            "1886/1886 [==============================] - 12s 7ms/step - loss: 0.0535 - accuracy: 0.9822\n",
            "Epoch 36/50\n",
            "1886/1886 [==============================] - 12s 7ms/step - loss: 0.0514 - accuracy: 0.9833\n",
            "Epoch 37/50\n",
            "1886/1886 [==============================] - 12s 7ms/step - loss: 0.0535 - accuracy: 0.9827\n",
            "Epoch 38/50\n",
            "1886/1886 [==============================] - 12s 6ms/step - loss: 0.0532 - accuracy: 0.9822\n",
            "Epoch 39/50\n",
            "1886/1886 [==============================] - 12s 7ms/step - loss: 0.0532 - accuracy: 0.9823\n",
            "Epoch 40/50\n",
            "1886/1886 [==============================] - 12s 6ms/step - loss: 0.0529 - accuracy: 0.9821\n",
            "Epoch 41/50\n",
            "1886/1886 [==============================] - 12s 6ms/step - loss: 0.0529 - accuracy: 0.9825\n",
            "Epoch 42/50\n",
            "1886/1886 [==============================] - 12s 7ms/step - loss: 0.0530 - accuracy: 0.9822\n",
            "Epoch 43/50\n",
            "1886/1886 [==============================] - 12s 6ms/step - loss: 0.0532 - accuracy: 0.9822\n",
            "Epoch 44/50\n",
            "1886/1886 [==============================] - 12s 7ms/step - loss: 0.0532 - accuracy: 0.9825\n",
            "Epoch 45/50\n",
            "1886/1886 [==============================] - 12s 7ms/step - loss: 0.0540 - accuracy: 0.9818\n",
            "Epoch 46/50\n",
            "1886/1886 [==============================] - 12s 6ms/step - loss: 0.0566 - accuracy: 0.9812\n",
            "Epoch 47/50\n",
            "1886/1886 [==============================] - 12s 6ms/step - loss: 0.0556 - accuracy: 0.9818\n",
            "Epoch 48/50\n",
            "1886/1886 [==============================] - 13s 7ms/step - loss: 0.0558 - accuracy: 0.9819\n",
            "Epoch 49/50\n",
            "1886/1886 [==============================] - 12s 6ms/step - loss: 0.0561 - accuracy: 0.9813\n",
            "Epoch 50/50\n",
            "1886/1886 [==============================] - 12s 7ms/step - loss: 0.0560 - accuracy: 0.9811\n"
          ],
          "name": "stdout"
        },
        {
          "output_type": "execute_result",
          "data": {
            "text/plain": [
              "<tensorflow.python.keras.callbacks.History at 0x7f143b2a7e10>"
            ]
          },
          "metadata": {
            "tags": []
          },
          "execution_count": 20
        }
      ]
    },
    {
      "cell_type": "code",
      "metadata": {
        "colab": {
          "base_uri": "https://localhost:8080/",
          "height": 701
        },
        "id": "b-LcKT-0z2g5",
        "outputId": "c7635810-8e84-4bbb-8ffc-13d96e2b730f"
      },
      "source": [
        "actual = model.predict(test_frames_pca)\n",
        "predict = actual\n",
        "predict[predict >= 0.5] = 1\n",
        "predict[predict < 0.5] = 0\n",
        "#predict = np.argmax(actual, axis=1)\n",
        "test_label_ = np.concatenate(test_label, axis = 0)\n",
        "print(predict)\n",
        "\n",
        "#test_label_ = np.argmax(actual, axis=1)\n",
        "from sklearn.metrics import confusion_matrix\n",
        "import matplotlib.pyplot as plt\n",
        "cm = confusion_matrix(test_label_, predict)\n",
        "fig = plt.figure()\n",
        "ax = fig.add_subplot(111)\n",
        "cax = ax.matshow(cm)\n",
        "fig.colorbar(cax)\n",
        "plt.show()\n",
        "\n",
        "print(cm)\n",
        "from sklearn.metrics import precision_recall_fscore_support\n",
        "print(precision_recall_fscore_support(test_label_, predict, average='macro'))\n",
        "\n",
        "actual = model.predict(test_frames_)\n",
        "import sklearn.metrics as metrics\n",
        "\n",
        "fpr, tpr, thresholds = metrics.roc_curve(test_label_, actual)#, pos_label=1)\n",
        "#print(fpr, tpr, thresholds)\n",
        "roc_auc = metrics.auc(fpr, tpr)\n",
        "plt.plot(fpr, tpr, 'b', label = 'AUC = %0.2f' % roc_auc)\n",
        "plt.legend(loc = 'lower right')\n",
        "plt.plot([0, 1], [0, 1],'r--')\n",
        "plt.xlim([-0.05, 1.05])\n",
        "plt.ylim([-0.05, 1.05])\n",
        "plt.ylabel('True Positive Rate')\n",
        "plt.xlabel('False Positive Rate')\n",
        "plt.show()"
      ],
      "execution_count": 21,
      "outputs": [
        {
          "output_type": "stream",
          "text": [
            "[[0.]\n",
            " [0.]\n",
            " [0.]\n",
            " ...\n",
            " [0.]\n",
            " [0.]\n",
            " [0.]]\n"
          ],
          "name": "stdout"
        },
        {
          "output_type": "display_data",
          "data": {
            "image/png": "[encoded data removed]",
            "text/plain": [
              "<Figure size 432x288 with 2 Axes>"
            ]
          },
          "metadata": {
            "tags": [],
            "needs_background": "light"
          }
        },
        {
          "output_type": "stream",
          "text": [
            "[[27692   668]\n",
            " [ 1489   862]]\n",
            "(0.7561861700233364, 0.6715490932346407, 0.7033645471467168, None)\n"
          ],
          "name": "stdout"
        },
        {
          "output_type": "display_data",
          "data": {
            "image/png": "[encoded data removed]",
            "text/plain": [
              "<Figure size 432x288 with 1 Axes>"
            ]
          },
          "metadata": {
            "tags": [],
            "needs_background": "light"
          }
        }
      ]
    },
    {
      "cell_type": "code",
      "metadata": {
        "id": "lE-9jL-B7VeJ",
        "colab": {
          "base_uri": "https://localhost:8080/"
        },
        "outputId": "6788f91d-e1dc-405e-fa2d-8577894abef6"
      },
      "source": [
        "#Final experiments-final - LSTM - no-PCA\n",
        "\n",
        "\n",
        "from keras.models import Sequential\n",
        "from keras.layers import Dense\n",
        "from keras.layers import LSTM, GRU, Dropout, BatchNormalization, Activation\n",
        "from keras.layers.embeddings import Embedding\n",
        "from keras.preprocessing import sequence\n",
        "\n",
        "model = Sequential()\n",
        "model.add(LSTM(256, input_shape=(train_frames_.shape[1],train_frames_.shape[2]), return_sequences=True))\n",
        "model.add(BatchNormalization())\n",
        "model.add(Activation(\"relu\"))\n",
        "model.add(Dropout(0.5))\n",
        "model.add(LSTM(256))\n",
        "model.add(Dense(1, activation='sigmoid'))\n",
        "model.compile(loss='binary_crossentropy', optimizer='adam', metrics=['accuracy'])\n",
        "#model.build()\n",
        "print(model.summary())\n",
        "model.fit(train_frames_, train_label_, epochs=50, batch_size=64, verbose = 1)\n"
      ],
      "execution_count": 28,
      "outputs": [
        {
          "output_type": "stream",
          "text": [
            "Model: \"sequential_2\"\n",
            "_________________________________________________________________\n",
            "Layer (type)                 Output Shape              Param #   \n",
            "=================================================================\n",
            "lstm_2 (LSTM)                (None, 20, 256)           328704    \n",
            "_________________________________________________________________\n",
            "batch_normalization_2 (Batch (None, 20, 256)           1024      \n",
            "_________________________________________________________________\n",
            "activation_2 (Activation)    (None, 20, 256)           0         \n",
            "_________________________________________________________________\n",
            "dropout_2 (Dropout)          (None, 20, 256)           0         \n",
            "_________________________________________________________________\n",
            "lstm_3 (LSTM)                (None, 256)               525312    \n",
            "_________________________________________________________________\n",
            "dense_2 (Dense)              (None, 1)                 257       \n",
            "=================================================================\n",
            "Total params: 855,297\n",
            "Trainable params: 854,785\n",
            "Non-trainable params: 512\n",
            "_________________________________________________________________\n",
            "None\n",
            "Epoch 1/50\n",
            "1886/1886 [==============================] - 14s 7ms/step - loss: 0.2193 - accuracy: 0.9404\n",
            "Epoch 2/50\n",
            "1886/1886 [==============================] - 14s 7ms/step - loss: 0.1990 - accuracy: 0.9484\n",
            "Epoch 3/50\n",
            "1886/1886 [==============================] - 13s 7ms/step - loss: 0.1961 - accuracy: 0.9487\n",
            "Epoch 4/50\n",
            "1886/1886 [==============================] - 13s 7ms/step - loss: 0.1935 - accuracy: 0.9490\n",
            "Epoch 5/50\n",
            "1886/1886 [==============================] - 13s 7ms/step - loss: 0.1914 - accuracy: 0.9495\n",
            "Epoch 6/50\n",
            "1886/1886 [==============================] - 13s 7ms/step - loss: 0.1894 - accuracy: 0.9500\n",
            "Epoch 7/50\n",
            "1886/1886 [==============================] - 13s 7ms/step - loss: 0.1875 - accuracy: 0.9504\n",
            "Epoch 8/50\n",
            "1886/1886 [==============================] - 13s 7ms/step - loss: 0.1841 - accuracy: 0.9507\n",
            "Epoch 9/50\n",
            "1886/1886 [==============================] - 13s 7ms/step - loss: 0.1801 - accuracy: 0.9514\n",
            "Epoch 10/50\n",
            "1886/1886 [==============================] - 13s 7ms/step - loss: 0.1750 - accuracy: 0.9522\n",
            "Epoch 11/50\n",
            "1886/1886 [==============================] - 13s 7ms/step - loss: 0.1675 - accuracy: 0.9529\n",
            "Epoch 12/50\n",
            "1886/1886 [==============================] - 13s 7ms/step - loss: 0.1595 - accuracy: 0.9540\n",
            "Epoch 13/50\n",
            "1886/1886 [==============================] - 13s 7ms/step - loss: 0.1488 - accuracy: 0.9563\n",
            "Epoch 14/50\n",
            "1886/1886 [==============================] - 13s 7ms/step - loss: 0.1379 - accuracy: 0.9586\n",
            "Epoch 15/50\n",
            "1886/1886 [==============================] - 13s 7ms/step - loss: 0.1279 - accuracy: 0.9608\n",
            "Epoch 16/50\n",
            "1886/1886 [==============================] - 13s 7ms/step - loss: 0.1156 - accuracy: 0.9645\n",
            "Epoch 17/50\n",
            "1886/1886 [==============================] - 13s 7ms/step - loss: 0.1072 - accuracy: 0.9658\n",
            "Epoch 18/50\n",
            "1886/1886 [==============================] - 13s 7ms/step - loss: 0.0955 - accuracy: 0.9700\n",
            "Epoch 19/50\n",
            "1886/1886 [==============================] - 13s 7ms/step - loss: 0.0886 - accuracy: 0.9719\n",
            "Epoch 20/50\n",
            "1886/1886 [==============================] - 13s 7ms/step - loss: 0.0817 - accuracy: 0.9740\n",
            "Epoch 21/50\n",
            "1886/1886 [==============================] - 13s 7ms/step - loss: 0.0750 - accuracy: 0.9757\n",
            "Epoch 22/50\n",
            "1886/1886 [==============================] - 13s 7ms/step - loss: 0.0695 - accuracy: 0.9774\n",
            "Epoch 23/50\n",
            "1886/1886 [==============================] - 13s 7ms/step - loss: 0.0663 - accuracy: 0.9783\n",
            "Epoch 24/50\n",
            "1886/1886 [==============================] - 13s 7ms/step - loss: 0.0612 - accuracy: 0.9804\n",
            "Epoch 25/50\n",
            "1886/1886 [==============================] - 14s 7ms/step - loss: 0.0571 - accuracy: 0.9817\n",
            "Epoch 26/50\n",
            "1886/1886 [==============================] - 13s 7ms/step - loss: 0.0546 - accuracy: 0.9822\n",
            "Epoch 27/50\n",
            "1886/1886 [==============================] - 13s 7ms/step - loss: 0.0520 - accuracy: 0.9832\n",
            "Epoch 28/50\n",
            "1886/1886 [==============================] - 13s 7ms/step - loss: 0.0501 - accuracy: 0.9837\n",
            "Epoch 29/50\n",
            "1886/1886 [==============================] - 13s 7ms/step - loss: 0.0474 - accuracy: 0.9847\n",
            "Epoch 30/50\n",
            "1886/1886 [==============================] - 13s 7ms/step - loss: 0.0457 - accuracy: 0.9855\n",
            "Epoch 31/50\n",
            "1886/1886 [==============================] - 13s 7ms/step - loss: 0.0433 - accuracy: 0.9861\n",
            "Epoch 32/50\n",
            "1886/1886 [==============================] - 13s 7ms/step - loss: 0.0441 - accuracy: 0.9857\n",
            "Epoch 33/50\n",
            "1886/1886 [==============================] - 14s 7ms/step - loss: 0.0426 - accuracy: 0.9864\n",
            "Epoch 34/50\n",
            "1886/1886 [==============================] - 13s 7ms/step - loss: 0.0411 - accuracy: 0.9867\n",
            "Epoch 35/50\n",
            "1886/1886 [==============================] - 13s 7ms/step - loss: 0.0393 - accuracy: 0.9876\n",
            "Epoch 36/50\n",
            "1886/1886 [==============================] - 13s 7ms/step - loss: 0.0380 - accuracy: 0.9879\n",
            "Epoch 37/50\n",
            "1886/1886 [==============================] - 13s 7ms/step - loss: 0.0372 - accuracy: 0.9883\n",
            "Epoch 38/50\n",
            "1886/1886 [==============================] - 13s 7ms/step - loss: 0.0373 - accuracy: 0.9885\n",
            "Epoch 39/50\n",
            "1886/1886 [==============================] - 13s 7ms/step - loss: 0.0362 - accuracy: 0.9886\n",
            "Epoch 40/50\n",
            "1886/1886 [==============================] - 13s 7ms/step - loss: 0.0362 - accuracy: 0.9886\n",
            "Epoch 41/50\n",
            "1886/1886 [==============================] - 13s 7ms/step - loss: 0.0342 - accuracy: 0.9892\n",
            "Epoch 42/50\n",
            "1886/1886 [==============================] - 13s 7ms/step - loss: 0.0346 - accuracy: 0.9892\n",
            "Epoch 43/50\n",
            "1886/1886 [==============================] - 13s 7ms/step - loss: 0.0349 - accuracy: 0.9893\n",
            "Epoch 44/50\n",
            "1886/1886 [==============================] - 13s 7ms/step - loss: 0.0328 - accuracy: 0.9897\n",
            "Epoch 45/50\n",
            "1886/1886 [==============================] - 14s 7ms/step - loss: 0.0320 - accuracy: 0.9900\n",
            "Epoch 46/50\n",
            "1886/1886 [==============================] - 13s 7ms/step - loss: 0.0335 - accuracy: 0.9895\n",
            "Epoch 47/50\n",
            "1886/1886 [==============================] - 14s 7ms/step - loss: 0.0330 - accuracy: 0.9897\n",
            "Epoch 48/50\n",
            "1886/1886 [==============================] - 14s 8ms/step - loss: 0.0304 - accuracy: 0.9907\n",
            "Epoch 49/50\n",
            "1886/1886 [==============================] - 14s 7ms/step - loss: 0.0312 - accuracy: 0.9904\n",
            "Epoch 50/50\n",
            "1886/1886 [==============================] - 13s 7ms/step - loss: 0.0317 - accuracy: 0.9900\n"
          ],
          "name": "stdout"
        },
        {
          "output_type": "execute_result",
          "data": {
            "text/plain": [
              "<tensorflow.python.keras.callbacks.History at 0x7f14a1e521d0>"
            ]
          },
          "metadata": {
            "tags": []
          },
          "execution_count": 28
        }
      ]
    },
    {
      "cell_type": "code",
      "metadata": {
        "colab": {
          "base_uri": "https://localhost:8080/",
          "height": 701
        },
        "id": "KV1lk5GK7cVY",
        "outputId": "55bea419-0ca8-4b16-c845-f074dfa6598f"
      },
      "source": [
        "actual = model.predict(test_frames_)\n",
        "predict = actual\n",
        "predict[predict >= 0.5] = 1\n",
        "predict[predict < 0.5] = 0\n",
        "#predict = np.argmax(actual, axis=1)\n",
        "test_label_ = np.concatenate(test_label, axis = 0)\n",
        "print(predict)\n",
        "\n",
        "#test_label_ = np.argmax(actual, axis=1)\n",
        "from sklearn.metrics import confusion_matrix\n",
        "import matplotlib.pyplot as plt\n",
        "cm = confusion_matrix(test_label_, predict)\n",
        "fig = plt.figure()\n",
        "ax = fig.add_subplot(111)\n",
        "cax = ax.matshow(cm)\n",
        "fig.colorbar(cax)\n",
        "plt.show()\n",
        "\n",
        "print(cm)\n",
        "from sklearn.metrics import precision_recall_fscore_support\n",
        "print(precision_recall_fscore_support(test_label_, predict, average='macro'))\n",
        "\n",
        "actual = model.predict(test_frames_)\n",
        "import sklearn.metrics as metrics\n",
        "\n",
        "fpr, tpr, thresholds = metrics.roc_curve(test_label_, actual)#, pos_label=1)\n",
        "#print(fpr, tpr, thresholds)\n",
        "roc_auc = metrics.auc(fpr, tpr)\n",
        "plt.plot(fpr, tpr, 'b', label = 'AUC = %0.2f' % roc_auc)\n",
        "plt.legend(loc = 'lower right')\n",
        "plt.plot([0, 1], [0, 1],'r--')\n",
        "plt.xlim([-0.05, 1.05])\n",
        "plt.ylim([-0.05, 1.05])\n",
        "plt.ylabel('True Positive Rate')\n",
        "plt.xlabel('False Positive Rate')\n",
        "plt.show()"
      ],
      "execution_count": 29,
      "outputs": [
        {
          "output_type": "stream",
          "text": [
            "[[0.]\n",
            " [0.]\n",
            " [0.]\n",
            " ...\n",
            " [0.]\n",
            " [0.]\n",
            " [0.]]\n"
          ],
          "name": "stdout"
        },
        {
          "output_type": "display_data",
          "data": {
            "image/png": "[encoded data removed]",
            "text/plain": [
              "<Figure size 432x288 with 2 Axes>"
            ]
          },
          "metadata": {
            "tags": [],
            "needs_background": "light"
          }
        },
        {
          "output_type": "stream",
          "text": [
            "[[27431   929]\n",
            " [ 1476   875]]\n",
            "(0.7169864813047914, 0.6697123226979607, 0.6895915194636764, None)\n"
          ],
          "name": "stdout"
        },
        {
          "output_type": "display_data",
          "data": {
            "image/png": "[encoded data removed]",
            "text/plain": [
              "<Figure size 432x288 with 1 Axes>"
            ]
          },
          "metadata": {
            "tags": [],
            "needs_background": "light"
          }
        }
      ]
    },
    {
      "cell_type": "code",
      "metadata": {
        "colab": {
          "base_uri": "https://localhost:8080/"
        },
        "id": "l8aG5Pcc3i8n",
        "outputId": "fc165c33-8d8a-46d8-8b80-d672bd776d06"
      },
      "source": [
        "#Final experiments-final - GRU - no-PCA\n",
        "\n",
        "from keras.models import Sequential\n",
        "from keras.layers import Dense\n",
        "from keras.layers import LSTM, GRU, Dropout, BatchNormalization, Activation\n",
        "from keras.layers.embeddings import Embedding\n",
        "from keras.preprocessing import sequence\n",
        "\n",
        "model = Sequential()\n",
        "model.add(GRU(256, input_shape=(train_frames_.shape[1],train_frames_.shape[2]), return_sequences=True))\n",
        "model.add(BatchNormalization())\n",
        "model.add(Activation(\"relu\"))\n",
        "model.add(Dropout(0.5))\n",
        "model.add(GRU(256))\n",
        "model.add(Dense(1, activation='sigmoid'))\n",
        "model.compile(loss='binary_crossentropy', optimizer='adam', metrics=['accuracy'])\n",
        "#model.build()\n",
        "print(model.summary())\n",
        "model.fit(train_frames_, train_label_, epochs=50, batch_size=64, verbose = 1)\n"
      ],
      "execution_count": 30,
      "outputs": [
        {
          "output_type": "stream",
          "text": [
            "Model: \"sequential_3\"\n",
            "_________________________________________________________________\n",
            "Layer (type)                 Output Shape              Param #   \n",
            "=================================================================\n",
            "gru_2 (GRU)                  (None, 20, 256)           247296    \n",
            "_________________________________________________________________\n",
            "batch_normalization_3 (Batch (None, 20, 256)           1024      \n",
            "_________________________________________________________________\n",
            "activation_3 (Activation)    (None, 20, 256)           0         \n",
            "_________________________________________________________________\n",
            "dropout_3 (Dropout)          (None, 20, 256)           0         \n",
            "_________________________________________________________________\n",
            "gru_3 (GRU)                  (None, 256)               394752    \n",
            "_________________________________________________________________\n",
            "dense_3 (Dense)              (None, 1)                 257       \n",
            "=================================================================\n",
            "Total params: 643,329\n",
            "Trainable params: 642,817\n",
            "Non-trainable params: 512\n",
            "_________________________________________________________________\n",
            "None\n",
            "Epoch 1/50\n",
            "1886/1886 [==============================] - 13s 7ms/step - loss: 0.2136 - accuracy: 0.9433\n",
            "Epoch 2/50\n",
            "1886/1886 [==============================] - 13s 7ms/step - loss: 0.1971 - accuracy: 0.9487\n",
            "Epoch 3/50\n",
            "1886/1886 [==============================] - 13s 7ms/step - loss: 0.1936 - accuracy: 0.9496\n",
            "Epoch 4/50\n",
            "1886/1886 [==============================] - 13s 7ms/step - loss: 0.1929 - accuracy: 0.9494\n",
            "Epoch 5/50\n",
            "1886/1886 [==============================] - 13s 7ms/step - loss: 0.1911 - accuracy: 0.9500\n",
            "Epoch 6/50\n",
            "1886/1886 [==============================] - 13s 7ms/step - loss: 0.1895 - accuracy: 0.9503\n",
            "Epoch 7/50\n",
            "1886/1886 [==============================] - 13s 7ms/step - loss: 0.1882 - accuracy: 0.9503\n",
            "Epoch 8/50\n",
            "1886/1886 [==============================] - 13s 7ms/step - loss: 0.1861 - accuracy: 0.9508\n",
            "Epoch 9/50\n",
            "1886/1886 [==============================] - 13s 7ms/step - loss: 0.1837 - accuracy: 0.9510\n",
            "Epoch 10/50\n",
            "1886/1886 [==============================] - 13s 7ms/step - loss: 0.1804 - accuracy: 0.9515\n",
            "Epoch 11/50\n",
            "1886/1886 [==============================] - 13s 7ms/step - loss: 0.1765 - accuracy: 0.9521\n",
            "Epoch 12/50\n",
            "1886/1886 [==============================] - 14s 7ms/step - loss: 0.1710 - accuracy: 0.9523\n",
            "Epoch 13/50\n",
            "1886/1886 [==============================] - 14s 7ms/step - loss: 0.1650 - accuracy: 0.9531\n",
            "Epoch 14/50\n",
            "1886/1886 [==============================] - 13s 7ms/step - loss: 0.1577 - accuracy: 0.9542\n",
            "Epoch 15/50\n",
            "1886/1886 [==============================] - 13s 7ms/step - loss: 0.1497 - accuracy: 0.9553\n",
            "Epoch 16/50\n",
            "1886/1886 [==============================] - 14s 7ms/step - loss: 0.1406 - accuracy: 0.9571\n",
            "Epoch 17/50\n",
            "1886/1886 [==============================] - 13s 7ms/step - loss: 0.1313 - accuracy: 0.9592\n",
            "Epoch 18/50\n",
            "1886/1886 [==============================] - 13s 7ms/step - loss: 0.1219 - accuracy: 0.9615\n",
            "Epoch 19/50\n",
            "1886/1886 [==============================] - 13s 7ms/step - loss: 0.1153 - accuracy: 0.9635\n",
            "Epoch 20/50\n",
            "1886/1886 [==============================] - 13s 7ms/step - loss: 0.1076 - accuracy: 0.9651\n",
            "Epoch 21/50\n",
            "1886/1886 [==============================] - 14s 7ms/step - loss: 0.1025 - accuracy: 0.9665\n",
            "Epoch 22/50\n",
            "1886/1886 [==============================] - 13s 7ms/step - loss: 0.0963 - accuracy: 0.9687\n",
            "Epoch 23/50\n",
            "1886/1886 [==============================] - 13s 7ms/step - loss: 0.0919 - accuracy: 0.9700\n",
            "Epoch 24/50\n",
            "1886/1886 [==============================] - 13s 7ms/step - loss: 0.0863 - accuracy: 0.9721\n",
            "Epoch 25/50\n",
            "1886/1886 [==============================] - 13s 7ms/step - loss: 0.0831 - accuracy: 0.9725\n",
            "Epoch 26/50\n",
            "1886/1886 [==============================] - 13s 7ms/step - loss: 0.0817 - accuracy: 0.9730\n",
            "Epoch 27/50\n",
            "1886/1886 [==============================] - 13s 7ms/step - loss: 0.0783 - accuracy: 0.9747\n",
            "Epoch 28/50\n",
            "1886/1886 [==============================] - 13s 7ms/step - loss: 0.0763 - accuracy: 0.9748\n",
            "Epoch 29/50\n",
            "1886/1886 [==============================] - 13s 7ms/step - loss: 0.0738 - accuracy: 0.9755\n",
            "Epoch 30/50\n",
            "1886/1886 [==============================] - 13s 7ms/step - loss: 0.0739 - accuracy: 0.9754\n",
            "Epoch 31/50\n",
            "1886/1886 [==============================] - 14s 7ms/step - loss: 0.0723 - accuracy: 0.9758\n",
            "Epoch 32/50\n",
            "1886/1886 [==============================] - 14s 7ms/step - loss: 0.0710 - accuracy: 0.9766\n",
            "Epoch 33/50\n",
            "1886/1886 [==============================] - 13s 7ms/step - loss: 0.0685 - accuracy: 0.9769\n",
            "Epoch 34/50\n",
            "1886/1886 [==============================] - 13s 7ms/step - loss: 0.0706 - accuracy: 0.9761\n",
            "Epoch 35/50\n",
            "1886/1886 [==============================] - 13s 7ms/step - loss: 0.0691 - accuracy: 0.9763\n",
            "Epoch 36/50\n",
            "1886/1886 [==============================] - 13s 7ms/step - loss: 0.0680 - accuracy: 0.9776\n",
            "Epoch 37/50\n",
            "1886/1886 [==============================] - 13s 7ms/step - loss: 0.0677 - accuracy: 0.9772\n",
            "Epoch 38/50\n",
            "1886/1886 [==============================] - 13s 7ms/step - loss: 0.0690 - accuracy: 0.9769\n",
            "Epoch 39/50\n",
            "1886/1886 [==============================] - 13s 7ms/step - loss: 0.0686 - accuracy: 0.9772\n",
            "Epoch 40/50\n",
            "1886/1886 [==============================] - 13s 7ms/step - loss: 0.0666 - accuracy: 0.9778\n",
            "Epoch 41/50\n",
            "1886/1886 [==============================] - 13s 7ms/step - loss: 0.0670 - accuracy: 0.9773\n",
            "Epoch 42/50\n",
            "1886/1886 [==============================] - 12s 7ms/step - loss: 0.0673 - accuracy: 0.9775\n",
            "Epoch 43/50\n",
            "1886/1886 [==============================] - 13s 7ms/step - loss: 0.0679 - accuracy: 0.9776\n",
            "Epoch 44/50\n",
            "1886/1886 [==============================] - 13s 7ms/step - loss: 0.0683 - accuracy: 0.9769\n",
            "Epoch 45/50\n",
            "1886/1886 [==============================] - 13s 7ms/step - loss: 0.0694 - accuracy: 0.9766\n",
            "Epoch 46/50\n",
            "1886/1886 [==============================] - 13s 7ms/step - loss: 0.0678 - accuracy: 0.9771\n",
            "Epoch 47/50\n",
            "1886/1886 [==============================] - 13s 7ms/step - loss: 0.0705 - accuracy: 0.9762\n",
            "Epoch 48/50\n",
            "1886/1886 [==============================] - 13s 7ms/step - loss: 0.0705 - accuracy: 0.9762\n",
            "Epoch 49/50\n",
            "1886/1886 [==============================] - 12s 7ms/step - loss: 0.0711 - accuracy: 0.9763\n",
            "Epoch 50/50\n",
            "1886/1886 [==============================] - 13s 7ms/step - loss: 0.0713 - accuracy: 0.9760\n"
          ],
          "name": "stdout"
        },
        {
          "output_type": "execute_result",
          "data": {
            "text/plain": [
              "<tensorflow.python.keras.callbacks.History at 0x7f142e3d8780>"
            ]
          },
          "metadata": {
            "tags": []
          },
          "execution_count": 30
        }
      ]
    },
    {
      "cell_type": "code",
      "metadata": {
        "colab": {
          "base_uri": "https://localhost:8080/",
          "height": 701
        },
        "id": "B7FtkmpC3jyi",
        "outputId": "473d4100-dd6d-4233-e174-031da84278d9"
      },
      "source": [
        "actual = model.predict(test_frames_)\n",
        "predict = actual\n",
        "predict[predict >= 0.5] = 1\n",
        "predict[predict < 0.5] = 0\n",
        "#predict = np.argmax(actual, axis=1)\n",
        "test_label_ = np.concatenate(test_label, axis = 0)\n",
        "print(predict)\n",
        "\n",
        "#test_label_ = np.argmax(actual, axis=1)\n",
        "from sklearn.metrics import confusion_matrix\n",
        "import matplotlib.pyplot as plt\n",
        "cm = confusion_matrix(test_label_, predict)\n",
        "fig = plt.figure()\n",
        "ax = fig.add_subplot(111)\n",
        "cax = ax.matshow(cm)\n",
        "fig.colorbar(cax)\n",
        "plt.show()\n",
        "\n",
        "print(cm)\n",
        "from sklearn.metrics import precision_recall_fscore_support\n",
        "print(precision_recall_fscore_support(test_label_, predict, average='macro'))\n",
        "\n",
        "actual = model.predict(test_frames_)\n",
        "import sklearn.metrics as metrics\n",
        "\n",
        "fpr, tpr, thresholds = metrics.roc_curve(test_label_, actual)#, pos_label=1)\n",
        "#print(fpr, tpr, thresholds)\n",
        "roc_auc = metrics.auc(fpr, tpr)\n",
        "plt.plot(fpr, tpr, 'b', label = 'AUC = %0.2f' % roc_auc)\n",
        "plt.legend(loc = 'lower right')\n",
        "plt.plot([0, 1], [0, 1],'r--')\n",
        "plt.xlim([-0.05, 1.05])\n",
        "plt.ylim([-0.05, 1.05])\n",
        "plt.ylabel('True Positive Rate')\n",
        "plt.xlabel('False Positive Rate')\n",
        "plt.show()"
      ],
      "execution_count": 31,
      "outputs": [
        {
          "output_type": "stream",
          "text": [
            "[[0.]\n",
            " [0.]\n",
            " [0.]\n",
            " ...\n",
            " [0.]\n",
            " [0.]\n",
            " [0.]]\n"
          ],
          "name": "stdout"
        },
        {
          "output_type": "display_data",
          "data": {
            "image/png": "[encoded data removed]",
            "text/plain": [
              "<Figure size 432x288 with 2 Axes>"
            ]
          },
          "metadata": {
            "tags": [],
            "needs_background": "light"
          }
        },
        {
          "output_type": "stream",
          "text": [
            "[[27674   686]\n",
            " [ 1493   858]]\n",
            "(0.7522557477211363, 0.6703810430276346, 0.7013434803276948, None)\n"
          ],
          "name": "stdout"
        },
        {
          "output_type": "display_data",
          "data": {
            "image/png": "[encoded data removed]",
            "text/plain": [
              "<Figure size 432x288 with 1 Axes>"
            ]
          },
          "metadata": {
            "tags": [],
            "needs_background": "light"
          }
        }
      ]
    },
    {
      "cell_type": "markdown",
      "metadata": {
        "id": "ePxINkVtGpmm"
      },
      "source": [
        "**Bayes Model**"
      ]
    },
    {
      "cell_type": "code",
      "metadata": {
        "id": "Bq7Xk6H0Aoqu"
      },
      "source": [
        "train_frames_ = np.reshape(train_frames_, ((train_frames_.shape[0]*20,64)))\n",
        "test_frames_ = np.reshape(test_frames_, ((test_frames_.shape[0]*20,64)))\n",
        "\n",
        "#naive bayes filling the label\n",
        "train_l_ = np.zeros((train_frames_.shape[0]))\n",
        "test_l_ = np.zeros((test_frames_.shape[0]))\n",
        "\n",
        "for i in range(train_label_.shape[0]):\n",
        "  train_l_[i*20:i*20+20] = train_label_[i]\n",
        "\n",
        "for i in range(test_label_.shape[0]):\n",
        "  test_l_[i*20:i*20+20] = test_label_[i]\n"
      ],
      "execution_count": 38,
      "outputs": []
    },
    {
      "cell_type": "code",
      "metadata": {
        "colab": {
          "base_uri": "https://localhost:8080/"
        },
        "id": "c1Y9kljhf4xZ",
        "outputId": "7e7add40-0dce-45bb-897c-a6a5aed4879c"
      },
      "source": [
        "from collections import Counter\n",
        "print(Counter(test_l_).keys()) # equals to list(set(words))\n",
        "print(Counter(test_l_).values()) # counts the elements' frequency\n",
        "\n",
        "print(Counter(train_l_).keys()) # equals to list(set(words))\n",
        "print(Counter(train_l_).values()) # counts the elements' frequency"
      ],
      "execution_count": 39,
      "outputs": [
        {
          "output_type": "stream",
          "text": [
            "dict_keys([1.0, 0.0])\n",
            "dict_values([48180, 583200])\n",
            "dict_keys([1.0, 0.0])\n",
            "dict_values([180360, 2216260])\n"
          ],
          "name": "stdout"
        }
      ]
    },
    {
      "cell_type": "code",
      "metadata": {
        "colab": {
          "base_uri": "https://localhost:8080/",
          "height": 582
        },
        "id": "X87oOoKsYwBm",
        "outputId": "d04a36f5-9b45-422c-cb2a-8ad525023d2a"
      },
      "source": [
        "from sklearn.naive_bayes import GaussianNB\n",
        "\n",
        "gnb = GaussianNB()\n",
        "y_pred = gnb.fit(train_frames_, train_l_).predict(test_frames_)\n",
        "accuracy_score(y_pred, test_l_)\n",
        "\n",
        "from sklearn.metrics import precision_recall_fscore_support\n",
        "print(precision_recall_fscore_support(test_l_, y_pred, average='macro'))\n",
        "\n",
        "from sklearn.metrics import confusion_matrix\n",
        "import matplotlib.pyplot as plt\n",
        "cm = confusion_matrix(test_l_, y_pred)\n",
        "fig = plt.figure()\n",
        "ax = fig.add_subplot(111)\n",
        "cax = ax.matshow(cm)\n",
        "fig.colorbar(cax)\n",
        "plt.show()\n",
        "\n",
        "print(cm)\n",
        "\n",
        "import sklearn.metrics as metrics\n",
        "\n",
        "fpr, tpr, thresholds = metrics.roc_curve(test_l_, y_pred)#, pos_label=1)\n",
        "#print(fpr, tpr, thresholds)\n",
        "roc_auc = metrics.auc(fpr, tpr)\n",
        "plt.plot(fpr, tpr, 'b', label = 'AUC = %0.2f' % roc_auc)\n",
        "plt.legend(loc = 'lower right')\n",
        "plt.plot([0, 1], [0, 1],'r--')\n",
        "plt.xlim([-0.05, 1.05])\n",
        "plt.ylim([-0.05, 1.05])\n",
        "plt.ylabel('True Positive Rate')\n",
        "plt.xlabel('False Positive Rate')\n",
        "plt.show()"
      ],
      "execution_count": 40,
      "outputs": [
        {
          "output_type": "stream",
          "text": [
            "(0.524444163474668, 0.5006441849579851, 0.48276217067594634, None)\n"
          ],
          "name": "stdout"
        },
        {
          "output_type": "display_data",
          "data": {
            "image/png": "[encoded data removed]",
            "text/plain": [
              "<Figure size 432x288 with 2 Axes>"
            ]
          },
          "metadata": {
            "tags": [],
            "needs_background": "light"
          }
        },
        {
          "output_type": "stream",
          "text": [
            "[[582172   1028]\n",
            " [ 48033    147]]\n"
          ],
          "name": "stdout"
        },
        {
          "output_type": "display_data",
          "data": {
            "image/png": "[encoded data removed]",
            "text/plain": [
              "<Figure size 432x288 with 1 Axes>"
            ]
          },
          "metadata": {
            "tags": [],
            "needs_background": "light"
          }
        }
      ]
    },
    {
      "cell_type": "code",
      "metadata": {
        "id": "xNuxcpZt23HK"
      },
      "source": [
        ""
      ],
      "execution_count": 33,
      "outputs": []
    }
  ]
}